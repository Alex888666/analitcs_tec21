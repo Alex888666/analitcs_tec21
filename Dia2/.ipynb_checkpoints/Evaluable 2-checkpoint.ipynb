{
 "cells": [
  {
   "cell_type": "markdown",
   "id": "05196dac",
   "metadata": {},
   "source": [
    "<h1 style=\"color:red \"> Evaluable 2 </h1>\n",
    "<span style=\"color:blue\"> Alejandro Hernández De la Torre </span>"
   ]
  },
  {
   "cell_type": "code",
   "execution_count": 19,
   "id": "11fcb748",
   "metadata": {},
   "outputs": [
    {
     "name": "stdout",
     "output_type": "stream",
     "text": [
      "                      user_name         user_location  \\\n",
      "0                        ᏉᎥ☻լꂅϮ            astroworld   \n",
      "1                 Tom Basile 🇺🇸          New York, NY   \n",
      "2               Time4fisticuffs      Pewee Valley, KY   \n",
      "3                   ethel mertz  Stuck in the Middle    \n",
      "4                      DIPR-J&K     Jammu and Kashmir   \n",
      "...                         ...                   ...   \n",
      "74431             Laura Wolfrom         Lexington, KY   \n",
      "74432  Professor Tonya M. Evans         😷 #stayathome   \n",
      "74433        People's Daily app           北京, 中华人民共和国   \n",
      "74434                     M0ser                   NaN   \n",
      "74435    Your Friend & Sabre ⚔️           Chicago, IL   \n",
      "\n",
      "                                        user_description         user_created  \\\n",
      "0      wednesday addams as a disney princess keepin i...  2017-05-26 05:46:42   \n",
      "1      Husband, Father, Columnist & Commentator. Auth...  2009-04-16 20:06:23   \n",
      "2      #Christian #Catholic #Conservative #Reagan #Re...  2009-02-28 18:57:41   \n",
      "3      #Browns #Indians #ClevelandProud #[]_[] #Cavs ...  2019-03-07 01:45:06   \n",
      "4      🖊️Official Twitter handle of Department of Inf...  2017-02-12 06:45:15   \n",
      "...                                                  ...                  ...   \n",
      "74431            The only things I collect are memories.  2010-09-24 02:01:15   \n",
      "74432  Law Prof @DickinsonLaw & Entrepreneur | Crypto...  2013-05-14 20:15:24   \n",
      "74433  Our mission is to provide news and perspective...  2018-02-04 12:36:42   \n",
      "74434  Reagan conservative and attorney raised in the...  2014-02-18 03:46:28   \n",
      "74435  My spectral decomposition has a significant da...  2016-12-19 19:55:00   \n",
      "\n",
      "       user_followers  user_friends  user_favourites  user_verified  \\\n",
      "0                 624           950            18775          False   \n",
      "1                2253          1677               24           True   \n",
      "2                9275          9525             7254          False   \n",
      "3                 197           987             1488          False   \n",
      "4              101009           168              101          False   \n",
      "...               ...           ...              ...            ...   \n",
      "74431              85           586             1902          False   \n",
      "74432            4289          1066            53569          False   \n",
      "74433            1413           102               16          False   \n",
      "74434            2554          1733           129104          False   \n",
      "74435             310          1748            60133          False   \n",
      "\n",
      "                      date                                               text  \\\n",
      "0      2020-07-25 12:27:21  If I smelled the scent of hand sanitizers toda...   \n",
      "1      2020-07-25 12:27:17  Hey @Yankees @YankeesPR and @MLB - wouldn't it...   \n",
      "2      2020-07-25 12:27:14  @diane3443 @wdunlap @realDonaldTrump Trump nev...   \n",
      "3      2020-07-25 12:27:10  @brookbanktv The one gift #COVID19 has give me...   \n",
      "4      2020-07-25 12:27:08  25 July : Media Bulletin on Novel #CoronaVirus...   \n",
      "...                    ...                                                ...   \n",
      "74431  2020-08-04 03:13:29  So far this summer I have filled up my lawn mo...   \n",
      "74432  2020-08-04 03:13:26  ICYMI: REPLAY: #TechIntersect🧩 #16: Isaiah \"@B...   \n",
      "74433  2020-08-04 03:13:22  Community workers in Tianshan District of Urum...   \n",
      "74434  2020-08-04 03:13:19  If only we had a responsible media to warn us ...   \n",
      "74435  2020-08-04 03:13:15  MAGA: #COVID19 is just a cold &amp; it'd be go...   \n",
      "\n",
      "                                      hashtags               source  \\\n",
      "0                                          NaN   Twitter for iPhone   \n",
      "1                                          NaN  Twitter for Android   \n",
      "2                                  ['COVID19']  Twitter for Android   \n",
      "3                                  ['COVID19']   Twitter for iPhone   \n",
      "4            ['CoronaVirusUpdates', 'COVID19']  Twitter for Android   \n",
      "...                                        ...                  ...   \n",
      "74431            ['COVID19', 'QuarantineLife']   Twitter for iPhone   \n",
      "74432  ['TechIntersect', 'Bitcoin', 'COVID19']      Twitter Web App   \n",
      "74433                    ['China', 'Xinjiang']      Twitter Web App   \n",
      "74434                              ['COVID19']   Twitter for iPhone   \n",
      "74435       ['COVID19', 'Hydroxycholoroquine']  Twitter for Android   \n",
      "\n",
      "       is_retweet  \n",
      "0           False  \n",
      "1           False  \n",
      "2           False  \n",
      "3           False  \n",
      "4           False  \n",
      "...           ...  \n",
      "74431       False  \n",
      "74432       False  \n",
      "74433       False  \n",
      "74434       False  \n",
      "74435       False  \n",
      "\n",
      "[74436 rows x 13 columns]\n"
     ]
    }
   ],
   "source": [
    "import pandas as pd\n",
    "import matplotlib.pyplot as plt\n",
    "\n",
    "import seaborn as sns; sns.set_theme()\n",
    "df = pd.read_csv(\"covid19_tweets.csv\")\n",
    "print (df)"
   ]
  },
  {
   "cell_type": "code",
   "execution_count": 20,
   "id": "61cc8f66",
   "metadata": {},
   "outputs": [
    {
     "data": {
      "text/html": [
       "<div>\n",
       "<style scoped>\n",
       "    .dataframe tbody tr th:only-of-type {\n",
       "        vertical-align: middle;\n",
       "    }\n",
       "\n",
       "    .dataframe tbody tr th {\n",
       "        vertical-align: top;\n",
       "    }\n",
       "\n",
       "    .dataframe thead th {\n",
       "        text-align: right;\n",
       "    }\n",
       "</style>\n",
       "<table border=\"1\" class=\"dataframe\">\n",
       "  <thead>\n",
       "    <tr style=\"text-align: right;\">\n",
       "      <th></th>\n",
       "      <th>user_followers</th>\n",
       "      <th>user_friends</th>\n",
       "      <th>user_favourites</th>\n",
       "    </tr>\n",
       "  </thead>\n",
       "  <tbody>\n",
       "    <tr>\n",
       "      <th>count</th>\n",
       "      <td>7.443600e+04</td>\n",
       "      <td>74436.000000</td>\n",
       "      <td>7.443600e+04</td>\n",
       "    </tr>\n",
       "    <tr>\n",
       "      <th>mean</th>\n",
       "      <td>1.059513e+05</td>\n",
       "      <td>2154.721170</td>\n",
       "      <td>1.529747e+04</td>\n",
       "    </tr>\n",
       "    <tr>\n",
       "      <th>std</th>\n",
       "      <td>8.222900e+05</td>\n",
       "      <td>9365.587474</td>\n",
       "      <td>4.668971e+04</td>\n",
       "    </tr>\n",
       "    <tr>\n",
       "      <th>min</th>\n",
       "      <td>0.000000e+00</td>\n",
       "      <td>0.000000</td>\n",
       "      <td>0.000000e+00</td>\n",
       "    </tr>\n",
       "    <tr>\n",
       "      <th>25%</th>\n",
       "      <td>1.660000e+02</td>\n",
       "      <td>153.000000</td>\n",
       "      <td>2.200000e+02</td>\n",
       "    </tr>\n",
       "    <tr>\n",
       "      <th>50%</th>\n",
       "      <td>9.600000e+02</td>\n",
       "      <td>552.000000</td>\n",
       "      <td>1.927000e+03</td>\n",
       "    </tr>\n",
       "    <tr>\n",
       "      <th>75%</th>\n",
       "      <td>5.148000e+03</td>\n",
       "      <td>1780.250000</td>\n",
       "      <td>1.014800e+04</td>\n",
       "    </tr>\n",
       "    <tr>\n",
       "      <th>max</th>\n",
       "      <td>1.389284e+07</td>\n",
       "      <td>497363.000000</td>\n",
       "      <td>2.047197e+06</td>\n",
       "    </tr>\n",
       "  </tbody>\n",
       "</table>\n",
       "</div>"
      ],
      "text/plain": [
       "       user_followers   user_friends  user_favourites\n",
       "count    7.443600e+04   74436.000000     7.443600e+04\n",
       "mean     1.059513e+05    2154.721170     1.529747e+04\n",
       "std      8.222900e+05    9365.587474     4.668971e+04\n",
       "min      0.000000e+00       0.000000     0.000000e+00\n",
       "25%      1.660000e+02     153.000000     2.200000e+02\n",
       "50%      9.600000e+02     552.000000     1.927000e+03\n",
       "75%      5.148000e+03    1780.250000     1.014800e+04\n",
       "max      1.389284e+07  497363.000000     2.047197e+06"
      ]
     },
     "execution_count": 20,
     "metadata": {},
     "output_type": "execute_result"
    }
   ],
   "source": [
    "df.describe()"
   ]
  },
  {
   "cell_type": "markdown",
   "id": "f2c3c46b",
   "metadata": {},
   "source": [
    "## Interpretación Describe\n",
    "Los siguientes datos nos marcan las estadisticas de las personas que tweetearon acerca del COVID-19. En periodos de tiempo consisos. Decidimos enfocarnos en los seguidores, usuarios y favoritos. Por ejemplo con la función \"describe\" nos dimos cuenta de varias cosas interesantes, por ejemplo con la función count nos dimos cuenta que los user_followers es casí igual a los user_favorites. Es decir que ambas cifras son parecidas en cantidad. Por lo que se podría decir que los usuarios ganan followers si otros le da un \"favorite\" o estan de acuerdo con lo que piensan o dicen. Pero cuando observamos la estandarización podemos ver que los followers se desvian muy fuerte en comparación de los favoritos, haciendo que un fenomeno de fluctuación suceda en comparación al punto anterior,esta fluctuación tambien la podemos ver en los cuartiles los cuales estan indicados con numeros y porcentajes. Lo interesante se puede ver en la maxima y minima. Ya que hay usuarios que no tienen seguidores, ni amigos ni favoritos. Por lo cual podriamos decir que hubo bots envueltos en esta toma de datos, pero en la maxima vemos numeros muy grandes lo cual tambien puede significar que alguna celebridad tmabien fue parte de este rastreo."
   ]
  },
  {
   "cell_type": "code",
   "execution_count": 21,
   "id": "c5476d2d",
   "metadata": {},
   "outputs": [
    {
     "data": {
      "image/png": "[encoded data removed]",
      "text/plain": [
       "<Figure size 432x288 with 1 Axes>"
      ]
     },
     "metadata": {},
     "output_type": "display_data"
    }
   ],
   "source": [
    "plt.boxplot(df[[\"user_followers\",\"user_friends\",\"user_favourites\"]])\n",
    "\n",
    "plt.show()"
   ]
  },
  {
   "cell_type": "code",
   "execution_count": 24,
   "id": "3b5c5d4e",
   "metadata": {
    "scrolled": true
   },
   "outputs": [
    {
     "data": {
      "image/png": "[encoded data removed]",
      "text/plain": [
       "<Figure size 432x288 with 2 Axes>"
      ]
     },
     "metadata": {},
     "output_type": "display_data"
    }
   ],
   "source": [
    "ax = sns.heatmap(df[[\"user_followers\",\"user_friends\",\"user_favourites\"]])"
   ]
  },
  {
   "cell_type": "markdown",
   "id": "8d86ed83",
   "metadata": {},
   "source": [
    "## Interpretación Bigote y Heatmap\n",
    "En estos mapas podemos ver que tan cesgados estan los datos y como estan las medias de los datos. En estas graficas no se alcanza a ver los numeros ni las relaciones correctamente, por lo cual podemos decir que los datos simplemente son muy diferentes los unos a los otros, tanto que ningún heatmap o caja de bigote en los incisos de \"user_followers\",\"user_friends\",\"user_favourites\"; puede encontrar una relación especifica con los datos y sus medias tambien por eso en la función describe pudimos ver cesgos gigantes comparando \"mean\" con los cuartiles.\n"
   ]
  },
  {
   "cell_type": "code",
   "execution_count": 25,
   "id": "689e7383",
   "metadata": {},
   "outputs": [
    {
     "data": {
      "text/html": [
       "<div>\n",
       "<style scoped>\n",
       "    .dataframe tbody tr th:only-of-type {\n",
       "        vertical-align: middle;\n",
       "    }\n",
       "\n",
       "    .dataframe tbody tr th {\n",
       "        vertical-align: top;\n",
       "    }\n",
       "\n",
       "    .dataframe thead th {\n",
       "        text-align: right;\n",
       "    }\n",
       "</style>\n",
       "<table border=\"1\" class=\"dataframe\">\n",
       "  <thead>\n",
       "    <tr style=\"text-align: right;\">\n",
       "      <th></th>\n",
       "      <th>user_followers</th>\n",
       "      <th>user_friends</th>\n",
       "      <th>user_favourites</th>\n",
       "      <th>user_verified</th>\n",
       "    </tr>\n",
       "  </thead>\n",
       "  <tbody>\n",
       "    <tr>\n",
       "      <th>user_followers</th>\n",
       "      <td>1.000000</td>\n",
       "      <td>0.410663</td>\n",
       "      <td>0.242534</td>\n",
       "      <td>0.415364</td>\n",
       "    </tr>\n",
       "    <tr>\n",
       "      <th>user_friends</th>\n",
       "      <td>0.410663</td>\n",
       "      <td>1.000000</td>\n",
       "      <td>0.439099</td>\n",
       "      <td>-0.003114</td>\n",
       "    </tr>\n",
       "    <tr>\n",
       "      <th>user_favourites</th>\n",
       "      <td>0.242534</td>\n",
       "      <td>0.439099</td>\n",
       "      <td>1.000000</td>\n",
       "      <td>-0.032220</td>\n",
       "    </tr>\n",
       "    <tr>\n",
       "      <th>user_verified</th>\n",
       "      <td>0.415364</td>\n",
       "      <td>-0.003114</td>\n",
       "      <td>-0.032220</td>\n",
       "      <td>1.000000</td>\n",
       "    </tr>\n",
       "  </tbody>\n",
       "</table>\n",
       "</div>"
      ],
      "text/plain": [
       "                 user_followers  user_friends  user_favourites  user_verified\n",
       "user_followers         1.000000      0.410663         0.242534       0.415364\n",
       "user_friends           0.410663      1.000000         0.439099      -0.003114\n",
       "user_favourites        0.242534      0.439099         1.000000      -0.032220\n",
       "user_verified          0.415364     -0.003114        -0.032220       1.000000"
      ]
     },
     "execution_count": 25,
     "metadata": {},
     "output_type": "execute_result"
    }
   ],
   "source": [
    "df[[\"user_followers\",\"user_friends\",\"user_favourites\",\"user_verified\"]].corr(method ='kendall')"
   ]
  },
  {
   "cell_type": "markdown",
   "id": "1f689e17",
   "metadata": {},
   "source": [
    "## Interpretación Correlación\n",
    "En estos datos podemos ver que tanto tienen que ver unos datos con otros, por eso en las columnas y filas que tienen nombre similar se puede ver un 1, ya que son la misma por lo tanto tienen que ver mucho una con otra por que son la misma. Pero lo interesante ocurre en los demas rubros por ejemplo en user_followers, se puede ver que tiene un .41 con los amigos, podiamos intuir que un poco menos de la mitad de los followers tienden a ser amigos de los usuarios y la mitad de esos son favoritos, pero menos de la mitad de los usuarios tienden a seguir a cuentas verificadas. Tambien podemos ver que las cuentas verificadas tienen muy poco amigos verificados, lo cual es logico, ya que no existen tantas cuentas verificadas.\n"
   ]
  }
 ],
 "metadata": {
  "kernelspec": {
   "display_name": "Python 3 (ipykernel)",
   "language": "python",
   "name": "python3"
  },
  "language_info": {
   "codemirror_mode": {
    "name": "ipython",
    "version": 3
   },
   "file_extension": ".py",
   "mimetype": "text/x-python",
   "name": "python",
   "nbconvert_exporter": "python",
   "pygments_lexer": "ipython3",
   "version": "3.10.4"
  }
 },
 "nbformat": 4,
 "nbformat_minor": 5
}
