{
 "cells": [
  {
   "cell_type": "markdown",
   "id": "6ab456fa",
   "metadata": {},
   "source": [
    "# Alejandro Hernández De la Torre - A01651516\n",
    "## Arte de la analítica"
   ]
  },
  {
   "cell_type": "markdown",
   "id": "2a54edd4",
   "metadata": {},
   "source": [
    "Ejercicios con Python:\n",
    "\n",
    "1.\n",
    "Escribir una función de Python que encuentre los números primos en los primeros N números naturales.\n",
    "N es el argumento de la función\n",
    "Llamar la función desde el código principal"
   ]
  },
  {
   "cell_type": "code",
   "execution_count": 18,
   "id": "2d778df9",
   "metadata": {},
   "outputs": [],
   "source": [
    "import math\n",
    "\n",
    "def func(N):\n",
    "    counter = 1\n",
    "    while N > 0:\n",
    "        counter += 1\n",
    "        fact = []\n",
    "        if counter > 1:\n",
    "            for i in range(2, int(math.pow(counter,0.5))+1):\n",
    "                if (counter%i) == 0:\n",
    "                    fact.append(i)\n",
    "                if len(fact) == 0:\n",
    "                    print(counter)\n",
    "                    N -=1"
   ]
  },
  {
   "cell_type": "code",
   "execution_count": 19,
   "id": "2f4ca97c",
   "metadata": {},
   "outputs": [
    {
     "name": "stdout",
     "output_type": "stream",
     "text": [
      "5\n",
      "7\n",
      "9\n",
      "11\n",
      "11\n",
      "13\n",
      "13\n",
      "15\n",
      "17\n",
      "17\n",
      "17\n"
     ]
    }
   ],
   "source": [
    "func(10)"
   ]
  },
  {
   "cell_type": "markdown",
   "id": "d38aac87",
   "metadata": {},
   "source": [
    "2.\n",
    "Escribir una función de Pyton que encuentre el producto cruz en vectores de 3 componentes.\n",
    "La función recibe dos listas (vectores)\n",
    "La función regresa un tercer vector (lista) con el resultado\n",
    "Llamar a la función desde el código principal\n"
   ]
  },
  {
   "cell_type": "code",
   "execution_count": 15,
   "id": "5024842c",
   "metadata": {},
   "outputs": [],
   "source": [
    "def cross(va,vb):\n",
    "    vc = []\n",
    "    vc.append (a[1]*b[2]-a[2]*b[1])\n",
    "    vc.append (a[2]*b[0]-a[0]*b[2])\n",
    "    vc.append (a[0]*b[1]-a[1]*b[0])\n",
    "    return vc"
   ]
  },
  {
   "cell_type": "code",
   "execution_count": 16,
   "id": "a98acbab",
   "metadata": {},
   "outputs": [
    {
     "name": "stdout",
     "output_type": "stream",
     "text": [
      "[-45, 40, -5]\n"
     ]
    }
   ],
   "source": [
    "a = [2,3,6]\n",
    "b = [7,8,1]\n",
    "\n",
    "print(cross(a,b))"
   ]
  },
  {
   "cell_type": "markdown",
   "id": "32b1c653",
   "metadata": {},
   "source": [
    "3.\n",
    "Re-escribir el problema 2, pero ahora los vectores son leídos desde un archivo de texto.\n"
   ]
  },
  {
   "cell_type": "code",
   "execution_count": 20,
   "id": "af5be271",
   "metadata": {},
   "outputs": [
    {
     "ename": "FileNotFoundError",
     "evalue": "[Errno 2] No such file or directory: 'vectors.txt'",
     "output_type": "error",
     "traceback": [
      "\u001b[0;31m---------------------------------------------------------------------------\u001b[0m",
      "\u001b[0;31mFileNotFoundError\u001b[0m                         Traceback (most recent call last)",
      "Input \u001b[0;32mIn [20]\u001b[0m, in \u001b[0;36m<cell line: 6>\u001b[0;34m()\u001b[0m\n\u001b[1;32m      3\u001b[0m         V[i] \u001b[38;5;241m=\u001b[39m \u001b[38;5;28mint\u001b[39m(v[i])\n\u001b[1;32m      4\u001b[0m     \u001b[38;5;28;01mreturn\u001b[39;00m v\n\u001b[0;32m----> 6\u001b[0m my_file \u001b[38;5;241m=\u001b[39m \u001b[38;5;28;43mopen\u001b[39;49m\u001b[43m(\u001b[49m\u001b[38;5;124;43m'\u001b[39;49m\u001b[38;5;124;43mvectors.txt\u001b[39;49m\u001b[38;5;124;43m'\u001b[39;49m\u001b[43m,\u001b[49m\u001b[43m \u001b[49m\u001b[38;5;124;43m'\u001b[39;49m\u001b[38;5;124;43mr\u001b[39;49m\u001b[38;5;124;43m'\u001b[39;49m\u001b[43m)\u001b[49m\n\u001b[1;32m      7\u001b[0m data \u001b[38;5;241m=\u001b[39m my_file\u001b[38;5;241m.\u001b[39mread()\n\u001b[1;32m      8\u001b[0m data \u001b[38;5;241m=\u001b[39m data\u001b[38;5;241m.\u001b[39msplit(\u001b[38;5;124m'\u001b[39m\u001b[38;5;130;01m\\n\u001b[39;00m\u001b[38;5;124m'\u001b[39m)\n",
      "\u001b[0;31mFileNotFoundError\u001b[0m: [Errno 2] No such file or directory: 'vectors.txt'"
     ]
    }
   ],
   "source": [
    "def crosstext(v):\n",
    "    for i in range(0, len(v)):\n",
    "        V[i] = int(v[i])\n",
    "    return v\n",
    "    \n",
    "vectf = open('vectors.txt', 'r')\n",
    "num = vectf.read()\n",
    "num = num.split('\\n')\n",
    "a = strtoint(num[0].split(','))\n",
    "b = strtoint(num[1].split(','))\n",
    "print(a)\n",
    "print(b)"
   ]
  },
  {
   "cell_type": "code",
   "execution_count": null,
   "id": "bd9e7286",
   "metadata": {},
   "outputs": [],
   "source": []
  }
 ],
 "metadata": {
  "kernelspec": {
   "display_name": "Python 3 (ipykernel)",
   "language": "python",
   "name": "python3"
  },
  "language_info": {
   "codemirror_mode": {
    "name": "ipython",
    "version": 3
   },
   "file_extension": ".py",
   "mimetype": "text/x-python",
   "name": "python",
   "nbconvert_exporter": "python",
   "pygments_lexer": "ipython3",
   "version": "3.10.4"
  }
 },
 "nbformat": 4,
 "nbformat_minor": 5
}
